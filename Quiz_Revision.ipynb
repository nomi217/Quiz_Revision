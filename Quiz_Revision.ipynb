{
 "cells": [
  {
   "cell_type": "markdown",
   "metadata": {},
   "source": [
    "## Quiz Revision"
   ]
  },
  {
   "cell_type": "markdown",
   "metadata": {},
   "source": [
    "### Task 1 Username & Password Check"
   ]
  },
  {
   "cell_type": "code",
   "execution_count": 5,
   "metadata": {},
   "outputs": [
    {
     "name": "stdout",
     "output_type": "stream",
     "text": [
      "Enter Username: 123\n",
      "Enter Password: 123\n",
      "Login Failed! Please Try Again.\n",
      "End Of Program\n"
     ]
    }
   ],
   "source": [
    "username=input('Enter Username: ')\n",
    "password=input('Enter Password: ')\n",
    "if username=='admin' and password=='123':\n",
    "    print('Login Successful!')\n",
    "else:\n",
    "    print('Login Failed! Please Try Again.')\n",
    "print('End Of Program')"
   ]
  },
  {
   "cell_type": "markdown",
   "metadata": {},
   "source": [
    "## Indentation"
   ]
  },
  {
   "cell_type": "code",
   "execution_count": 9,
   "metadata": {},
   "outputs": [
    {
     "name": "stdout",
     "output_type": "stream",
     "text": [
      "Enter Name: Nauman\n",
      "PIAIC\n",
      "Islamabad Batch 3\n",
      "Bahria University\n"
     ]
    }
   ],
   "source": [
    "name=input('Enter Name: ')\n",
    "if name=='Nauman':\n",
    "    print('PIAIC')\n",
    "    print('Islamabad Batch 3')\n",
    "    print('Bahria University')\n",
    "else:\n",
    "    print('Name Not Found')"
   ]
  },
  {
   "cell_type": "code",
   "execution_count": 14,
   "metadata": {},
   "outputs": [
    {
     "name": "stdout",
     "output_type": "stream",
     "text": [
      "Enter Name: Nauman\n",
      "Enter Class Timing: 9am\n",
      "PIAIC Islamabad Batch 3\n",
      "Class 1\n"
     ]
    }
   ],
   "source": [
    "name=input('Enter Name: ')\n",
    "classt=input('Enter Class Timing: ')\n",
    "if name=='Nauman':\n",
    "    print('PIAIC Islamabad Batch 3')\n",
    "    if classt=='9am':\n",
    "        print('Class 1')\n",
    "    elif classt=='12pm':\n",
    "        print('Class 2')\n",
    "    else:\n",
    "        print('Class 3rd or 4th')\n",
    "else:\n",
    "    print('Name Not Found')"
   ]
  },
  {
   "cell_type": "markdown",
   "metadata": {},
   "source": [
    "### Task 2 Find Grade According to marks"
   ]
  },
  {
   "cell_type": "code",
   "execution_count": 19,
   "metadata": {},
   "outputs": [
    {
     "name": "stdout",
     "output_type": "stream",
     "text": [
      "Enter Marks: 95\n",
      "Grade A\n"
     ]
    }
   ],
   "source": [
    "marks=int(input('Enter Marks: '))\n",
    "if marks>=90:\n",
    "    print('Grade A')\n",
    "elif marks>=80:\n",
    "    print('Grade B')\n",
    "elif marks>=70:\n",
    "    print('Grade C')\n",
    "elif marks>=60:\n",
    "    print('Grade D')\n",
    "else:\n",
    "    print('Grade E')"
   ]
  },
  {
   "cell_type": "markdown",
   "metadata": {},
   "source": [
    "### Task 3"
   ]
  },
  {
   "cell_type": "code",
   "execution_count": 26,
   "metadata": {},
   "outputs": [
    {
     "name": "stdout",
     "output_type": "stream",
     "text": [
      "What is the day of Rent? monday\n",
      "No Of Days? 2\n",
      "Is time greater than 8pm?(yes/no) yes\n",
      "Is DVD scratched(yes/no): no\n",
      "Cost = $4.7700000000000005\n"
     ]
    }
   ],
   "source": [
    "day=input('What is the day of Rent? ')\n",
    "no_of_days=int(input('No Of Days? '))\n",
    "time=input('Is time greater than 8pm?(yes/no) ')\n",
    "scratced=input('Is DVD scratched(yes/no): ')\n",
    "if time=='yes':\n",
    "    no_of_days=no_of_days+1\n",
    "else:\n",
    "    no_of_days=no_of_days\n",
    "if day=='sunday':\n",
    "    if scratced=='yes':\n",
    "        cost=(1.59*0.3*no_of_days)+2\n",
    "        print('Cost = $'+ str(cost))\n",
    "    else:\n",
    "        cost=1.59*0.7*no_of_days\n",
    "        print('Cost = $'+str(cost))\n",
    "elif day=='thursday':\n",
    "    cost=1.59*0.5*no_of_days\n",
    "    print('Cost = $'+str(cost))\n",
    "else:\n",
    "    if scratced=='yes':\n",
    "        cost=1.59*no_of_days+1\n",
    "        print('Cost = $'+str(cost))\n",
    "    else:\n",
    "        cost=1.59*no_of_days\n",
    "        print('Cost = $'+str(cost))"
   ]
  },
  {
   "cell_type": "markdown",
   "metadata": {},
   "source": [
    "## List\n",
    "\n",
    "## Important Rules\n",
    "\n",
    "## LeftToRight=Positive Increment\n",
    "\n",
    "## RightToLeft=Negative Increment"
   ]
  },
  {
   "cell_type": "code",
   "execution_count": 39,
   "metadata": {},
   "outputs": [
    {
     "data": {
      "text/plain": [
       "['kiwi', 'orange', 'cherry', 'banana']"
      ]
     },
     "execution_count": 39,
     "metadata": {},
     "output_type": "execute_result"
    }
   ],
   "source": [
    "fruits=['apple','banana','cherry','orange','kiwi','melon','mango']\n",
    "fruits[1:5]\n",
    "fruits[-6:-2]                    \n",
    "fruits[-7:5:1]\n",
    "fruits[4:-7:-1]\n",
    "fruits[-3:0:-1]"
   ]
  },
  {
   "cell_type": "markdown",
   "metadata": {},
   "source": [
    "### Task 4\n",
    "\n",
    "#### A list named employees contain 12 employee names,the last five been company management.You need to slice the list to display all employee excluding company management"
   ]
  },
  {
   "cell_type": "code",
   "execution_count": 48,
   "metadata": {},
   "outputs": [
    {
     "data": {
      "text/plain": [
       "[7, 6, 5, 4, 3, 2, 1]"
      ]
     },
     "execution_count": 48,
     "metadata": {},
     "output_type": "execute_result"
    }
   ],
   "source": [
    "employees=[1,2,3,4,5,6,7,10,11,12,13,15]\n",
    "#employees[1:-5] #wrong answer\n",
    "#employees[0:-5] #right answer\n",
    "employees[-6::-1] #right answer"
   ]
  },
  {
   "cell_type": "markdown",
   "metadata": {},
   "source": [
    "## For Loop"
   ]
  },
  {
   "cell_type": "code",
   "execution_count": 49,
   "metadata": {},
   "outputs": [
    {
     "name": "stdout",
     "output_type": "stream",
     "text": [
      "2\n",
      "6\n",
      "10\n",
      "14\n",
      "18\n"
     ]
    }
   ],
   "source": [
    "for i in range(1,10,2):\n",
    "    print(str(i*2))"
   ]
  },
  {
   "cell_type": "markdown",
   "metadata": {},
   "source": [
    "## Nested For Loop"
   ]
  },
  {
   "cell_type": "code",
   "execution_count": 52,
   "metadata": {},
   "outputs": [
    {
     "name": "stdout",
     "output_type": "stream",
     "text": [
      "0 1 2 /n\n",
      "0 2 4 /n\n",
      "0 3 6 /n\n",
      "0 4 8 /n\n"
     ]
    }
   ],
   "source": [
    "for i in range(1,5):\n",
    "    for j in range(0,3):\n",
    "        print(str(i*j),end=' ')\n",
    "    print('/n')"
   ]
  },
  {
   "cell_type": "markdown",
   "metadata": {},
   "source": [
    "## While Loop"
   ]
  },
  {
   "cell_type": "markdown",
   "metadata": {},
   "source": [
    "### Task 5"
   ]
  },
  {
   "cell_type": "code",
   "execution_count": 55,
   "metadata": {},
   "outputs": [
    {
     "name": "stdout",
     "output_type": "stream",
     "text": [
      "Yuiiiii\n",
      "Yuiiiii\n",
      "Yuiiiii\n",
      "Yuiiiii\n",
      "Yuiiiii\n",
      "Yuiiiii\n",
      "Yuiiiii\n",
      "Yuiiiii\n",
      "Yuiiiii\n",
      "Yuiiiii\n",
      "Total Littar= 10\n"
     ]
    }
   ],
   "source": [
    "sach=False\n",
    "counter=0\n",
    "while(sach!=True):\n",
    "    if counter==10:\n",
    "        sach=True\n",
    "        break\n",
    "    counter+=1\n",
    "    print('Yuiiiii')\n",
    "print('Total Littar= '+str(counter))"
   ]
  },
  {
   "cell_type": "markdown",
   "metadata": {},
   "source": [
    "## Task 6\n",
    "\n",
    "### Take a list of 10 number 0 to 9. Use while loopto find 6 number in list ,if found print index of 6 else keep finding"
   ]
  },
  {
   "cell_type": "code",
   "execution_count": 3,
   "metadata": {},
   "outputs": [
    {
     "name": "stdout",
     "output_type": "stream",
     "text": [
      "7\n"
     ]
    }
   ],
   "source": [
    "numbers=[0,2,1,4,5,3,7,6,8]\n",
    "index=0\n",
    "while(index<=10):\n",
    "    #print(numbers[index])\n",
    "    if numbers[index]==6:\n",
    "        print(index)\n",
    "        break\n",
    "    else:\n",
    "        index+=1"
   ]
  },
  {
   "cell_type": "markdown",
   "metadata": {},
   "source": [
    "## Dictionary"
   ]
  },
  {
   "cell_type": "code",
   "execution_count": 4,
   "metadata": {},
   "outputs": [
    {
     "data": {
      "text/plain": [
       "{'name': 'Nauman', 'age': 22, 'job': 'Developer'}"
      ]
     },
     "execution_count": 4,
     "metadata": {},
     "output_type": "execute_result"
    }
   ],
   "source": [
    "persondata={'name':'Nauman','age':22,'job':'Developer'}\n",
    "persondata"
   ]
  },
  {
   "cell_type": "code",
   "execution_count": 7,
   "metadata": {},
   "outputs": [
    {
     "data": {
      "text/plain": [
       "{'name': 'Nauman',\n",
       " 'age': 22,\n",
       " 'job': 'Developer',\n",
       " 'hobbies': ['Traveling', 'Coding']}"
      ]
     },
     "execution_count": 7,
     "metadata": {},
     "output_type": "execute_result"
    }
   ],
   "source": [
    "persondata['hobbies']=['Traveling','Coding']\n",
    "persondata"
   ]
  },
  {
   "cell_type": "code",
   "execution_count": 8,
   "metadata": {},
   "outputs": [
    {
     "data": {
      "text/plain": [
       "{'name': 'Nauman',\n",
       " 'age': 22,\n",
       " 'job': 'Developer',\n",
       " 'hobbies': ['Traveling', 'Coding'],\n",
       " 'experience': {'location': 'Pakistan',\n",
       "  'title': 'Python Developer',\n",
       "  'starting': '2018',\n",
       "  'ending': '2019'}}"
      ]
     },
     "execution_count": 8,
     "metadata": {},
     "output_type": "execute_result"
    }
   ],
   "source": [
    "workexperience={\n",
    "    'location':'Pakistan',\n",
    "    'title':'Python Developer',\n",
    "    'starting':'2018',\n",
    "    'ending':'2019'\n",
    "}\n",
    "persondata['experience']=workexperience\n",
    "persondata"
   ]
  },
  {
   "cell_type": "code",
   "execution_count": 9,
   "metadata": {},
   "outputs": [
    {
     "name": "stdout",
     "output_type": "stream",
     "text": [
      "{'location': 'Pakistan', 'title': 'Python Developer', 'starting': '2018', 'ending': '2019'}\n"
     ]
    }
   ],
   "source": [
    "print(persondata.get('experience'))"
   ]
  },
  {
   "cell_type": "code",
   "execution_count": 12,
   "metadata": {},
   "outputs": [
    {
     "data": {
      "text/plain": [
       "'Python Developer'"
      ]
     },
     "execution_count": 12,
     "metadata": {},
     "output_type": "execute_result"
    }
   ],
   "source": [
    "persondata['experience']['title']"
   ]
  },
  {
   "cell_type": "code",
   "execution_count": 1,
   "metadata": {},
   "outputs": [
    {
     "name": "stdout",
     "output_type": "stream",
     "text": [
      "Enter Your Name: Nauman\n",
      "Enter your Subject: Dbms\n",
      "Enter Your Subject Marks: 90\n",
      "Enter your Subject: C#\n",
      "Enter Your Subject Marks: 90\n",
      "Enter your Subject: Android\n",
      "Enter Your Subject Marks: 85\n",
      "Enter Your Hobby: Traveling\n",
      "Enter Your Hobby: Coding\n",
      "Enter Your Hobby: Book Reading\n",
      "Press x to Exit: y\n",
      "Enter Your Name: Arslan\n",
      "Enter your Subject: CN\n",
      "Enter Your Subject Marks: 80\n",
      "Enter your Subject: Tpn\n",
      "Enter Your Subject Marks: 90\n",
      "Enter your Subject: Np\n",
      "Enter Your Subject Marks: 85\n",
      "Enter Your Hobby: Movies\n",
      "Enter Your Hobby: Sleeping\n",
      "Enter Your Hobby: Study\n",
      "Press x to Exit: x\n",
      "[{'name': 'Nauman', 'marks': {'90': 'C#', '85': 'Android'}, 'hobbies': ['Traveling', 'Coding', 'Book Reading']}, {'name': 'Arslan', 'marks': {'80': 'CN', '90': 'Tpn', '85': 'Np'}, 'hobbies': ['Movies', 'Sleeping', 'Study']}]\n"
     ]
    }
   ],
   "source": [
    "data=[]\n",
    "exit=''\n",
    "while exit!='x':\n",
    "    persondetail={}\n",
    "    persondetail['name']=input('Enter Your Name: ')\n",
    "    persondetail['marks']={input('Enter Your Subject Marks: '):input('Enter your Subject: ') for i in range(3)}\n",
    "    persondetail['hobbies']=[input('Enter Your Hobby: ') for i in range(3)]\n",
    "    data.append(persondetail)\n",
    "    exit=input('Press x to Exit and y to continue: ')\n",
    "print(data)"
   ]
  },
  {
   "cell_type": "code",
   "execution_count": null,
   "metadata": {},
   "outputs": [],
   "source": []
  }
 ],
 "metadata": {
  "kernelspec": {
   "display_name": "Python 3",
   "language": "python",
   "name": "python3"
  },
  "language_info": {
   "codemirror_mode": {
    "name": "ipython",
    "version": 3
   },
   "file_extension": ".py",
   "mimetype": "text/x-python",
   "name": "python",
   "nbconvert_exporter": "python",
   "pygments_lexer": "ipython3",
   "version": "3.7.3"
  }
 },
 "nbformat": 4,
 "nbformat_minor": 2
}
